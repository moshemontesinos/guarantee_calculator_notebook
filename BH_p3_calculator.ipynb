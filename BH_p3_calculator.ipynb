{
  "nbformat": 4,
  "nbformat_minor": 0,
  "metadata": {
    "colab": {
      "name": "BH_p3_calculator_R_v2.ipynb",
      "provenance": [],
      "collapsed_sections": [],
      "authorship_tag": "ABX9TyN21tOzuWkXAVs2RGxSm0FG",
      "include_colab_link": true
    },
    "kernelspec": {
      "name": "ir",
      "display_name": "R"
    }
  },
  "cells": [
    {
      "cell_type": "markdown",
      "metadata": {
        "id": "view-in-github",
        "colab_type": "text"
      },
      "source": [
        "<a href=\"https://colab.research.google.com/github/moshemontesinos/guarantee_calculator_notebook/blob/main/BH_p3_calculator.ipynb\" target=\"_parent\"><img src=\"https://colab.research.google.com/assets/colab-badge.svg\" alt=\"Open In Colab\"/></a>"
      ]
    },
    {
      "cell_type": "markdown",
      "metadata": {
        "id": "n96cPOOveFlj"
      },
      "source": [
        "## **FAIR VALUE PPP CALCULATOR**\n",
        "**Authors:** Debborah Lucas, Jorge J. Montesinos<br>\n",
        "MIT Golub Center for Finance and Policy: http://gcfp.mit.edu/)<br>\n",
        "\n",
        "\n",
        "**Objective:** Develop a fair value APV framework for assessing public infrastructure projects and the various claims associated with them. <br>\n",
        "You can use this \"Google Colab\" notebook to modify the inputs and see how the different valuations change <br>\n",
        "**Coding Language:** R <br>\n",
        "\n",
        "---\n",
        "**Instructions:** Make a copy of this file and save it in your Google Drive to play with the code, change inputs and see how the valuations for the different components vary.<br>\n",
        "\n",
        "---\n",
        "\n",
        "\n"
      ]
    },
    {
      "cell_type": "markdown",
      "metadata": {
        "id": "7Pz34z9Ta4N7"
      },
      "source": [
        "**Example: valuing a toll road**\n",
        "\n",
        "The hypothetical base case cash flows conform to the typical pattern of toll revenues net of capital expenditures, and operating and maintenance costs. \n",
        "Here the project is assumed to start in **2018**. <br>\n",
        "Scale and some features are loosely based on projections that were made for part of the California Highway SR-91 Corridor improvement Project:\n",
        "- 5 years construction, then 35 year concession to private partner (calibrated to 2018 market conditions)\n",
        "- Projected net cash flows follow typical S-shaped pattern"
      ]
    },
    {
      "cell_type": "code",
      "metadata": {
        "id": "mMiB6BMnSxTE"
      },
      "source": [
        "## Install packages\n",
        "install.packages(\"tidyverse\")\n",
        "install.packages(\"optiRum\")\n",
        "install.packages(\"FinCal\")\n",
        "library(tidyverse)\n",
        "library(tidyr)\n",
        "library(dplyr)\n",
        "library(readr)\n",
        "library(ggplot2)\n",
        "library(optiRum)\n",
        "library(FinCal)\n",
        "library(purrr)"
      ],
      "execution_count": null,
      "outputs": []
    },
    {
      "cell_type": "code",
      "metadata": {
        "id": "vQcXQgqwZywW"
      },
      "source": [
        "# Load data (Hypothetical case):\n",
        "df <- read_csv(\"https://raw.githubusercontent.com/moshemontesinos/BH_mit_p3_calculator/master/BH_data_hyp_case_v2.csv\")\n",
        "\n",
        "#### Net cash flows (net_cfs):\n",
        "df <- df %>%\n",
        "  mutate(net_cfs = revs - capital - o_m)\n",
        "head(df)"
      ],
      "execution_count": null,
      "outputs": []
    },
    {
      "cell_type": "code",
      "metadata": {
        "colab": {
          "base_uri": "https://localhost:8080/",
          "height": 317
        },
        "id": "8afIBydqbUTd",
        "outputId": "c13766aa-e0cd-4b8c-d77e-c3b170b98510"
      },
      "source": [
        "# Plot Net cash flows (annual)\n",
        "ggplot(df, aes(x=time, y=net_cfs)) + \n",
        "    geom_col(fill =\"blue\") + \n",
        "    ggtitle(\"Figure 1: Toll road cash flows (annual, real terms)\") +\n",
        "    theme(plot.title = element_text(hjust=\"0.5\"))\n",
        "\n",
        "# Adjust plot size\n",
        "options(repr.plot.width=15, repr.plot.height=5)"
      ],
      "execution_count": null,
      "outputs": [
        {
          "output_type": "display_data",
          "data": {
            "image/png": "[encoded data removed]",
            "text/plain": [
              "plot without title"
            ]
          },
          "metadata": {
            "tags": [],
            "image/png": {
              "width": 900,
              "height": 300
            }
          }
        }
      ]
    },
    {
      "cell_type": "markdown",
      "metadata": {
        "id": "bVBlthZrbi2q"
      },
      "source": [
        "**INPUTS** <br>\n",
        "\n",
        "**Volatility:** <br>\n",
        "- Cash flow volatility based on DOT data from 1999-2016 on 15 toll projects https://www.fhwa.dot.gov/policyinformation/statistics.cfm <br>\n",
        "- For nominal (real) toll revenues, the coefficient of variation averages .30, with a standard deviation of .14\n",
        "Volatility may be higher in early years when more demand and construction delay uncertainty\n",
        "- You can check the following dashboard for more detailed information on these roads: https://datastudio.google.com/u/0/reporting/270327b5-a196-4039-b393-d4783c62bf4d/page/DS19?s=qYNGqeI7ZE8\n",
        "<br>\n",
        "<br>\n",
        "\n",
        "**Cost of capital for standalone project:** <br>\n",
        "- Asset beta of 0.8, calculated as the average for “trucking” and “transportation” (*see Prof. Damadoran betas website at:* http://pages.stern.nyu.edu/~adamodar/New_Home_Page/datafile/Betas.html)\n",
        "- CAPM inputs: risk-free rate of 2%, equity risk premium of 6%, inflation of 2% (see \"Inputs\" section above) \n",
        "- Nominal discount rate of .02 + .805(.06) = **6.8%**; real discount rate of **4.7%**."
      ]
    },
    {
      "cell_type": "code",
      "metadata": {
        "id": "SzXHDbS6b9ZN"
      },
      "source": [
        "## INPUTS \n",
        "# Project's generals:\n",
        "n  <- 40            # total project duration (years)\n",
        "n1 <- 5             # construction period (years)\n",
        "n2 <- n-n1          # operation period (years)\n",
        "rf <- 0.02          # risk-free rate (%)\n",
        "inflation <- 0.021  # expected inflation\n",
        "vol1 <- 0.30        # constant volatility\n",
        "vol2 <- rep(c(0,0.5,0.4,0.3,0.2), c(6,2,2,2,29))   # varying volatility\n",
        "vol3 <- tibble(vol1,vol2) # volatility dataframe\n",
        "\n",
        "# Calculate cost of capital (ra):\n",
        "Beta <- mean(c(0.80,0.81))             # asset beta: average btw transportation (.8) and trucking (.81)\n",
        "premium <- 0.06                        # equity premium\n",
        "ra <- rf + Beta*(premium) - inflation  # real fair value discount rate (%)\n",
        "ra <- round(ra, digits = 3)\n",
        "\n",
        "# Other inputs:\n",
        "strike <- 15000000    # strike price (minimum guaranteed revenue)\n",
        "durations <- c(5,10,20)\n"
      ],
      "execution_count": null,
      "outputs": []
    },
    {
      "cell_type": "markdown",
      "metadata": {
        "id": "ReyqTrI5cV2_"
      },
      "source": [
        "\n",
        "**BLACK'S MODEL CALCULATIONS:** <br>\n",
        "\n",
        "**Minimum Revenue Guarantees:** <br>\n",
        "Used to reduce risk for private partner. \n",
        "Technically this is a strip of put options that can be valued using **Black’s model** for commodity options, using the following equation: <br>\n",
        "\n",
        "$$p_{0,t} = e^{-ρ_t T} [XN(-d_2) - F_tN(-d1)]$$\n",
        "where:\n",
        "$$d_1 = \\frac{ln(F_t/X) + σ_t^2\\text{ }/\\text{ } T}{σ_t\\sqrt{T}} \\text{   , and}\\text{  } d_2 = d_1 - σ_t$$\n",
        "\n",
        "- $T$ is the time to maturity of the option, i.e., the arrival time of the revenue flow; \n",
        "- $F_t$ is the forward price of the revenue flow at $T$;\n",
        "- $X$ is the minimum guaranteed revenue, \n",
        "- $ρ_t$ is the risk-free rate on a continuous basis for maturity $T$; \n",
        "- $σ_t$ is the standard deviation of time $T$ revenues; \n",
        "- $N$ is the cumulative normal distribution; and $p_{0, t}$ is the value of the revenue guarantee for time $T$ as of time 0. <br>\n",
        "\n",
        "\n",
        "[These calculations require an estimate of the volatility of future revenues, which we include in the Inputs section above.]"
      ]
    },
    {
      "cell_type": "code",
      "metadata": {
        "id": "jO0ljDGpc04r",
        "colab": {
          "base_uri": "https://localhost:8080/",
          "height": 96
        },
        "outputId": "94f43ffc-5b40-456e-ae9f-16121dbd593e"
      },
      "source": [
        "# Calculate Revenue Forward Prices (fw):\n",
        "df <- df %>%\n",
        "  mutate(fw = case_when(time < 13 ~ revs*exp(rf*time)/(1+ra)^time, \n",
        "                        time >= 13 ~ revs[13]*exp(rf*time)/(1+ra)^time)) %>%\n",
        "  \n",
        "  # Calculate Put value (put):\n",
        "  # insert d1 and d2\n",
        "  mutate(d1 = (log(fw/strike) + time*(vol1^2)/2) / (vol1*sqrt(time))) %>%\n",
        "  mutate(d1 = replace(d1, d1 == -Inf, NA)) %>%\n",
        "  mutate(d2 = d1-(vol1*sqrt(time))) %>%\n",
        "  # insert N(-d1) and N(-d2)     \n",
        "  mutate(N_d1 = pnorm(-d1), \n",
        "         N_d2 = pnorm(-d2)) %>%\n",
        "  # insert put value (revenue guarantee) for each time t     \n",
        "  mutate(put = exp(-rf*time)*(strike*N_d2 - fw*N_d1))\n",
        "df\n",
        "tail(df)"
      ],
      "execution_count": null,
      "outputs": [
        {
          "output_type": "error",
          "ename": "ERROR",
          "evalue": "ignored",
          "traceback": [
            "Error in df %>% mutate(fw = case_when(time < 13 ~ revs * exp(rf * time)/(1 + : could not find function \"%>%\"\nTraceback:\n"
          ]
        }
      ]
    },
    {
      "cell_type": "code",
      "metadata": {
        "colab": {
          "base_uri": "https://localhost:8080/",
          "height": 175
        },
        "id": "mY0ch2usdOIP",
        "outputId": "2689644d-ae49-463c-e056-f4ee3be68c10"
      },
      "source": [
        "# Value of Minimum Revenue Guarantees under different durations:\n",
        "mrg_put   <- map_dbl(durations, ~sum(df$put[7:(6 +.x)]))\n",
        "cat(\"The value of the minimum revenue guarantees for {5, 10, 20} years duration are: \",\"\\n\")\n",
        "tibble(mrg_put)"
      ],
      "execution_count": null,
      "outputs": [
        {
          "output_type": "stream",
          "text": [
            "The value of the minimum revenue guarantees for {5, 10, 20} years duration are:  \n"
          ],
          "name": "stdout"
        },
        {
          "output_type": "display_data",
          "data": {
            "text/plain": [
              "  mrg_put \n",
              "1  5298697\n",
              "2 13157116\n",
              "3 40530420"
            ],
            "text/latex": "A tibble: 3 × 1\n\\begin{tabular}{l}\n mrg\\_put\\\\\n <dbl>\\\\\n\\hline\n\t  5298697\\\\\n\t 13157116\\\\\n\t 40530420\\\\\n\\end{tabular}\n",
            "text/markdown": "\nA tibble: 3 × 1\n\n| mrg_put &lt;dbl&gt; |\n|---|\n|  5298697 |\n| 13157116 |\n| 40530420 |\n\n",
            "text/html": [
              "<table>\n",
              "<caption>A tibble: 3 × 1</caption>\n",
              "<thead>\n",
              "\t<tr><th scope=col>mrg_put</th></tr>\n",
              "\t<tr><th scope=col>&lt;dbl&gt;</th></tr>\n",
              "</thead>\n",
              "<tbody>\n",
              "\t<tr><td> 5298697</td></tr>\n",
              "\t<tr><td>13157116</td></tr>\n",
              "\t<tr><td>40530420</td></tr>\n",
              "</tbody>\n",
              "</table>\n"
            ]
          },
          "metadata": {
            "tags": []
          }
        }
      ]
    },
    {
      "cell_type": "markdown",
      "metadata": {
        "id": "RPbHzyYvdZck"
      },
      "source": [
        "<br>\n",
        "\n",
        "**TIFIA LOAN &  MUNI BONDS:**\n",
        "\n",
        "We assume 70% debt funding, which is typical for highway projects. Total capital expenditures are $600 million, funded with *\\\\$420M of total debt*, and *\\\\$180M of equity* raised by the private partner. \n",
        "- **TIFIA guarantees** \\\\$120 million of the debt\n",
        "- **Special activity muni bonds** fund \\\\$230 million\n",
        "- The balance of \\\\$70 million is covered by unsubsidized private partner debt."
      ]
    },
    {
      "cell_type": "code",
      "metadata": {
        "colab": {
          "base_uri": "https://localhost:8080/"
        },
        "id": "S7UNTXlrddbk",
        "outputId": "48c31244-72ac-47a1-991d-2b732a6bbcdb"
      },
      "source": [
        "# TIFIA LOAN:\n",
        "# Inputs:\n",
        "princ_tf <- 120000000     # principal TIFIA ($)\n",
        "rate_tf  <- 0.0225        # rate TIFIA (%)\n",
        "rate_mkt <- rate_tf + rf  # market rate (%)\n",
        "n_tf     <- 30            # maturity TIFIA (years)\n",
        "start_tf <- 5             # start year TIFIA\n",
        "\n",
        "# Calculations\n",
        "pmt =(rate_tf*princ_tf)/(1-(1+rate_tf)^(-n_tf))  # payment (TIFIA)\n",
        "pv_mkt = -PV(rate_mkt,n_tf,-pmt)                 # PV(debt payments) @market rate\n",
        "\n",
        "# The present value of the credit subsidy would be the difference between:\n",
        "#   1) PV(debt payments) discounted at subsidized borrowing rate (@2.25%) [i.e.: principal value of loan]\n",
        "#   2) PV(debt payments) discounted at estimated market rate (@4.25)\n",
        "pv_subsidy <- (princ_tf+pv_mkt)/(1+rate_mkt)^start_tf\n",
        "\n",
        "# As percentage of TIFIA's principal (at year 5):\n",
        "subsidy_perc <- (princ_tf+pv_mkt)/princ_tf\n",
        "\n",
        "# Print results:\n",
        "cat(\"pmt = \", pmt,\"\\n\")\n",
        "cat(\"pv_mkt = \", pv_mkt, \"\\n\")\n",
        "cat(\"The present value of TIFIA's credit subsidy is:\", \"\\n\")\n",
        "cat(\"pv_subsidy = $\", pv_subsidy, \"\\n\")\n",
        "cat(\"subsidy_perc = \", round(subsidy_perc*100, 2),\"%\",\"\\n\")"
      ],
      "execution_count": null,
      "outputs": [
        {
          "output_type": "stream",
          "text": [
            "pmt =  5543921 \n",
            "pv_mkt =  -93021547 \n",
            "The present value of TIFIA's credit subsidy is: \n",
            "pv_subsidy = $ 21909715 \n",
            "subsidy_perc =  22.48 % \n"
          ],
          "name": "stdout"
        }
      ]
    },
    {
      "cell_type": "code",
      "metadata": {
        "colab": {
          "base_uri": "https://localhost:8080/"
        },
        "id": "Cs21ymZJdiDi",
        "outputId": "58040a3c-71ca-45e8-9ed2-02638532ce80"
      },
      "source": [
        "## MUNI:\n",
        "# Inputs:\n",
        "princ_muni <- 230000000     # principal MUNI ($)\n",
        "rate_muni  <- 0.0475        # rate MUNI (%)\n",
        "tax_muni   <- 0.2           # tax rate MUNI (%)\n",
        "n_muni     <- 40            # maturity MUNI (years)\n",
        "\n",
        "# Calculations\n",
        "pv_muni = -PV(rate_muni,n_muni,-(tax_muni*rate_muni*princ_muni))                 # PV(debt payments) @market rate\n",
        "\n",
        "# Print result:\n",
        "cat(\"The present value of the MUNI subsidy is:\", \"\\n\")\n",
        "cat(\"pv_muni = $\", pv_muni)"
      ],
      "execution_count": null,
      "outputs": [
        {
          "output_type": "stream",
          "text": [
            "The present value of the MUNI subsidy is: \n",
            "pv_muni = $ -38812190"
          ],
          "name": "stdout"
        }
      ]
    },
    {
      "cell_type": "markdown",
      "metadata": {
        "id": "4Vlx7e08dk9c"
      },
      "source": [
        "<br>\n",
        "\n",
        "### VALUE OF STANDALONE PROJECT"
      ]
    },
    {
      "cell_type": "code",
      "metadata": {
        "colab": {
          "base_uri": "https://localhost:8080/"
        },
        "id": "rGZzRYu5dwvt",
        "outputId": "f3a45875-1513-40d4-8442-3426ae38517a"
      },
      "source": [
        "## NPV standalone project\n",
        "# Generate fixed base CFs after t=12:\n",
        "fixed_net_cfs <- df %>%\n",
        "    transmute(revs, capital, o_m, fixed_net_cfs = case_when(time < 13 ~ revs - capital - o_m, \n",
        "                                                            time >= 13 ~ revs[13]- capital[13] - o_m[13])) %>%\n",
        "    select(fixed_net_cfs)\n",
        "# Calculate net present value (standalone project w/ fixed base CFs)\n",
        "npv_project <- sum(fixed_net_cfs*(1 / (1 + ra))^(0:n))\n",
        "irr_project <- irr(fixed_net_cfs[[1]])\n",
        "irr_project2 <- irr(df$net_cfs)\n",
        "\n",
        "# Print result:\n",
        "cat(\"The present value of the standalone project is:\", \"\\n\")\n",
        "cat(\"npv_project = $\", npv_project,\"\\n\")  \n",
        "cat(\"irr_project = \", round(irr_project2*100, 2),\"%\",\"\\n\")\n",
        "cat(\"irr_project_fixed = \", round(irr_project*100, 2),\"%\",\"\\n\")\n"
      ],
      "execution_count": null,
      "outputs": [
        {
          "output_type": "stream",
          "text": [
            "The present value of the standalone project is: \n",
            "npv_project = $ 36722472 \n",
            "irr_project =  5.7 % \n",
            "irr_project_fixed =  5.14 % \n"
          ],
          "name": "stdout"
        }
      ]
    },
    {
      "cell_type": "markdown",
      "metadata": {
        "id": "eO-r5_htd1PA"
      },
      "source": [
        "<br>\n",
        "\n",
        "**Sensitivity to discount rate**<br>\n",
        "- If assume gov’t discount rate based on real Aa2 20-year muni rate of 1.72%, estimated value increases to **\\\\$451 million**\n",
        "- If assume **real rate of 7%** (as per OMB guidance), estimated value falls to **-$117 million**\n",
        "- IRR is 5.7%\n",
        "- Extreme sensitivity because of long project horizon and low interest rate conditions\n",
        "<br>\n"
      ]
    },
    {
      "cell_type": "markdown",
      "metadata": {
        "id": "pLOuBdbnd89n"
      },
      "source": [
        "<br>\n",
        "\n",
        "### **Subsidies from TIFIA loan guarantees and muni bonds**\n",
        "Supporting assumptions and fair value calculation suggest magnitude of these subsidies:\n",
        "- **TIFIA subsidy:** \\\\$22 million\n",
        "- **Muni subsidy:** \\\\$39 million\n",
        "\n",
        "These subsidies are a cost to the federal government. A state or local  government might add them to the APV of the project (see above **standalone project value = \\\\$37 million**). <br>\n",
        "However, they are a transfer from federal to state and local taxpayers (and to the private partner if competition is limited). "
      ]
    }
  ]
}